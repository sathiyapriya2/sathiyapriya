{
 "cells": [
  {
   "cell_type": "markdown",
   "id": "e89fb05a-5af4-420e-804f-69c0ab6b4265",
   "metadata": {},
   "source": [
    "BREADTH FIRST SEARCH"
   ]
  },
  {
   "cell_type": "code",
   "execution_count": 16,
   "id": "dafa35c2-0d6a-479a-b59a-8b28419f46cc",
   "metadata": {},
   "outputs": [],
   "source": [
    "graph={\n",
    "    'sam':['araron','binny'],\n",
    "    'araron':['sam','christine','danny'],\n",
    "    'binny':['elvin','flin'],\n",
    "    'christine':['araron'],\n",
    "    'danny':['araron'],\n",
    "    'elvin':['binny','gini'],\n",
    "    'flin':['binny'],\n",
    "    'gini':['elvin']\n",
    "}\n",
    "     "
   ]
  },
  {
   "cell_type": "code",
   "execution_count": 19,
   "id": "d2215d8b-5ce3-45c1-850b-0754ba3b7034",
   "metadata": {},
   "outputs": [],
   "source": [
    "from collections import deque\n",
    "def bfs(graph,start,goal):\n",
    "    visited=[]\n",
    "    queue=deque([start])\n",
    "    while queue:\n",
    "     node=queue.popleft()\n",
    "     if node not in visited:\n",
    "        print(\"I have visited:\",node)\n",
    "        neighbours=graph[node]\n",
    "        if node==goal:\n",
    "            return(\"I have reached the goal,this is my traversed  path\",visited)\n",
    "        for neighbour in neighbours:\n",
    "            queue.append(neighbour)"
   ]
  },
  {
   "cell_type": "code",
   "execution_count": 20,
   "id": "e9c1543e-c8d9-443e-a486-42bb67d0ad11",
   "metadata": {},
   "outputs": [
    {
     "name": "stdout",
     "output_type": "stream",
     "text": [
      "I have visited: sam\n",
      "I have visited: araron\n",
      "I have visited: binny\n",
      "I have visited: sam\n",
      "I have visited: christine\n",
      "I have visited: danny\n",
      "I have visited: elvin\n",
      "I have visited: flin\n",
      "I have visited: araron\n",
      "I have visited: binny\n",
      "I have visited: araron\n",
      "I have visited: araron\n",
      "I have visited: binny\n",
      "I have visited: gini\n"
     ]
    },
    {
     "data": {
      "text/plain": [
       "('I have reached the goal,this is my traversed  path', [])"
      ]
     },
     "execution_count": 20,
     "metadata": {},
     "output_type": "execute_result"
    }
   ],
   "source": [
    "bfs(graph,'sam','gini')"
   ]
  },
  {
   "cell_type": "code",
   "execution_count": null,
   "id": "5e562c81-2d17-4f53-8903-6570374f409b",
   "metadata": {},
   "outputs": [],
   "source": []
  }
 ],
 "metadata": {
  "kernelspec": {
   "display_name": "Python 3 (ipykernel)",
   "language": "python",
   "name": "python3"
  },
  "language_info": {
   "codemirror_mode": {
    "name": "ipython",
    "version": 3
   },
   "file_extension": ".py",
   "mimetype": "text/x-python",
   "name": "python",
   "nbconvert_exporter": "python",
   "pygments_lexer": "ipython3",
   "version": "3.9.18"
  }
 },
 "nbformat": 4,
 "nbformat_minor": 5
}
