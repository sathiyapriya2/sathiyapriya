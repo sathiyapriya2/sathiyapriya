{
 "cells": [
  {
   "cell_type": "code",
   "execution_count": 4,
   "id": "291222d7-7081-48cc-bf30-0b3578eea66c",
   "metadata": {},
   "outputs": [],
   "source": [
    "graph={\n",
    "    'sam':['araron','binny'],\n",
    "    'araron':['sam','christine','danny'],\n",
    "    'binny':['elvin','flin'],\n",
    "    'christine':['araron'],\n",
    "    'danny':['araron'],\n",
    "    'elvin':['binny','gini'],\n",
    "    'flin':['binny'],\n",
    "    'gini':['elvin']\n",
    "}\n",
    "     "
   ]
  },
  {
   "cell_type": "code",
   "execution_count": 11,
   "id": "8b8ed9d5-714b-47bf-adc4-fb3951db029b",
   "metadata": {},
   "outputs": [],
   "source": [
    "def dfs(graph,start,goal,visited):\n",
    "    stack=[start]\n",
    "    while stack:\n",
    "        node=stack.pop()\n",
    "        if node not in visited:\n",
    "            visited.append(node)\n",
    "            if node==goal:\n",
    "                print(visited)\n",
    "            for neighbour in graph[node]:\n",
    "                dfs(graph,neighbour,goal,visited)"
   ]
  },
  {
   "cell_type": "code",
   "execution_count": 12,
   "id": "600a663f-d4ed-43ba-b8b2-53c39b49ee52",
   "metadata": {},
   "outputs": [
    {
     "name": "stdout",
     "output_type": "stream",
     "text": [
      "['sam', 'araron', 'christine', 'danny', 'binny', 'elvin', 'gini']\n"
     ]
    }
   ],
   "source": [
    "dfs(graph,'sam','gini',[])"
   ]
  },
  {
   "cell_type": "code",
   "execution_count": null,
   "id": "383730e5-c33d-415f-b9ea-0c64549bdb00",
   "metadata": {},
   "outputs": [],
   "source": []
  },
  {
   "cell_type": "code",
   "execution_count": null,
   "id": "ca3fd007-2b04-4397-9578-17727a0a83e7",
   "metadata": {},
   "outputs": [],
   "source": []
  }
 ],
 "metadata": {
  "kernelspec": {
   "display_name": "Python 3 (ipykernel)",
   "language": "python",
   "name": "python3"
  },
  "language_info": {
   "codemirror_mode": {
    "name": "ipython",
    "version": 3
   },
   "file_extension": ".py",
   "mimetype": "text/x-python",
   "name": "python",
   "nbconvert_exporter": "python",
   "pygments_lexer": "ipython3",
   "version": "3.9.18"
  }
 },
 "nbformat": 4,
 "nbformat_minor": 5
}
